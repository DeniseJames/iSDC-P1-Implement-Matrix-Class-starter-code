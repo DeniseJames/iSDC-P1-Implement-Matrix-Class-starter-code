{
 "cells": [
  {
   "cell_type": "code",
   "execution_count": 25,
   "metadata": {},
   "outputs": [
    {
     "name": "stdout",
     "output_type": "stream",
     "text": [
      "The autoreload extension is already loaded. To reload it, use:\n",
      "  %reload_ext autoreload\n"
     ]
    }
   ],
   "source": [
    "# Run this cell but don't modify it.\n",
    "\n",
    "%load_ext autoreload\n",
    "%autoreload 2\n",
    "from matrix import Matrix, zeroes, identity"
   ]
  },
  {
   "cell_type": "code",
   "execution_count": 26,
   "metadata": {},
   "outputs": [
    {
     "name": "stdout",
     "output_type": "stream",
     "text": [
      "m1 is\n",
      "1  2 \n",
      "3  4 \n",
      "\n",
      "m2 is\n",
      "2  5 \n",
      "6  1 \n",
      "\n",
      "we've also provided you with a function called zeros\n",
      "here's what happens when you call zeros(4,2)\n",
      "0.0  0.0 \n",
      "0.0  0.0 \n",
      "0.0  0.0 \n",
      "0.0  0.0 \n",
      "\n",
      "we've also provided you with a function called identity\n",
      "here's identity(3)\n",
      "1.0  0.0  0.0 \n",
      "0.0  1.0  0.0 \n",
      "0.0  0.0  1.0 \n",
      "\n",
      "but not everything works yet!\n",
      "for example, matrix addition...\n",
      "run the cell below to see what happens when we try...\n"
     ]
    }
   ],
   "source": [
    "# some functionality already exists... here's a demo\n",
    "\n",
    "m1 = Matrix([\n",
    "    [1, 2],\n",
    "    [3, 4]\n",
    "])\n",
    "\n",
    "m2 = Matrix([\n",
    "    [2, 5],\n",
    "    [6, 1]\n",
    "])\n",
    "\n",
    "print(\"m1 is\")\n",
    "print(m1)\n",
    "\n",
    "print(\"m2 is\")\n",
    "print(m2)\n",
    "\n",
    "print(\"we've also provided you with a function called zeros\")\n",
    "print(\"here's what happens when you call zeros(4,2)\")\n",
    "print(zeroes(4,2))\n",
    "\n",
    "print(\"we've also provided you with a function called identity\")\n",
    "print(\"here's identity(3)\")\n",
    "print(identity(3))\n",
    "\n",
    "print(\"but not everything works yet!\")\n",
    "print(\"for example, matrix addition...\")\n",
    "print(\"run the cell below to see what happens when we try...\")"
   ]
  },
  {
   "cell_type": "code",
   "execution_count": 3,
   "metadata": {},
   "outputs": [
    {
     "name": "stdout",
     "output_type": "stream",
     "text": [
      "m1 + m2 is\n",
      "3  7 \n",
      "9  5 \n",
      "\n"
     ]
    }
   ],
   "source": [
    "m1 = Matrix([\n",
    "    [1, 2],\n",
    "    [3, 4]\n",
    "])\n",
    "\n",
    "m2 = Matrix([\n",
    "    [2, 5],\n",
    "    [6, 1]\n",
    "])\n",
    "\n",
    "m3 = m1 + m2\n",
    "print(\"m1 + m2 is\")\n",
    "print(m3)"
   ]
  },
  {
   "cell_type": "code",
   "execution_count": 4,
   "metadata": {},
   "outputs": [
    {
     "name": "stdout",
     "output_type": "stream",
     "text": [
      "Congratulations! All tests pass. Your Matrix class is working as expected.\n"
     ]
    }
   ],
   "source": [
    "# Try running this code. You should get an assertion error. \n",
    "# You will continue to get assertion errors until all the \n",
    "# methods in matrix.py are correctly implemented.\n",
    "\n",
    "# You can open matrix.py by selecting File > Open... \n",
    "# and then selecting matrix.py\n",
    "\n",
    "import test"
   ]
  },
  {
   "cell_type": "code",
   "execution_count": 5,
   "metadata": {
    "collapsed": true
   },
   "outputs": [],
   "source": [
    "# open matrix.py (File > Open...) and start\n",
    "# implementing matrix methods! \n",
    "\n",
    "# when your code passes all the tests you can submit by \n",
    "# pressing the SUBMIT button in the lower right corner \n",
    "# of this page."
   ]
  },
  {
   "cell_type": "code",
   "execution_count": 6,
   "metadata": {
    "collapsed": true
   },
   "outputs": [],
   "source": [
    "m_determinant =  Matrix.determinant(m1)"
   ]
  },
  {
   "cell_type": "code",
   "execution_count": 29,
   "metadata": {},
   "outputs": [
    {
     "name": "stdout",
     "output_type": "stream",
     "text": [
      " the determinant of this matrix:\n",
      "1  2 \n",
      "3  4 \n",
      "\n",
      "is -2\n"
     ]
    }
   ],
   "source": [
    "print(\" the determinant of this matrix:\")\n",
    "print(m1)\n",
    "print(\"is\", m_determinant)"
   ]
  },
  {
   "cell_type": "code",
   "execution_count": 30,
   "metadata": {},
   "outputs": [
    {
     "name": "stdout",
     "output_type": "stream",
     "text": [
      " the trace of this matrix:\n",
      "1  2 \n",
      "3  4 \n",
      "\n",
      "is 5\n"
     ]
    }
   ],
   "source": [
    "m_trace =  Matrix.trace(m1)\n",
    "print(\" the trace of this matrix:\")\n",
    "print(m1)\n",
    "print(\"is\", m_trace)"
   ]
  },
  {
   "cell_type": "code",
   "execution_count": 32,
   "metadata": {},
   "outputs": [
    {
     "name": "stdout",
     "output_type": "stream",
     "text": [
      " the inverse of this matrix:\n",
      "1  2 \n",
      "3  4 \n",
      "\n",
      "is\n",
      "-2.0  1.0 \n",
      "1.5  -0.5 \n",
      "\n"
     ]
    }
   ],
   "source": [
    "m_inverse =  Matrix.inverse(m1)\n",
    "print(\" the inverse of this matrix:\")\n",
    "print(m1)\n",
    "print(\"is\")\n",
    "print(m_inverse)"
   ]
  },
  {
   "cell_type": "code",
   "execution_count": 34,
   "metadata": {},
   "outputs": [
    {
     "name": "stdout",
     "output_type": "stream",
     "text": [
      " the transform of this matrix:\n",
      "1  2 \n",
      "3  4 \n",
      "\n",
      "is\n",
      "1  3 \n",
      "2  4 \n",
      "\n"
     ]
    }
   ],
   "source": [
    "m_transform =  Matrix.T(m1)\n",
    "print(\" the transform of this matrix:\")\n",
    "print(m1)\n",
    "print(\"is:\")\n",
    "print(m_transform)"
   ]
  },
  {
   "cell_type": "code",
   "execution_count": 35,
   "metadata": {},
   "outputs": [
    {
     "name": "stdout",
     "output_type": "stream",
     "text": [
      " the sum of this matrix:\n",
      "1  2 \n",
      "3  4 \n",
      "\n",
      "is\n",
      "-2\n"
     ]
    }
   ],
   "source": [
    "m_add =  m1 + m2\n",
    "print(\" the sum of this matrix:\")\n",
    "print(m1)\n",
    "print(\"is\")\n",
    "print(m_determinant)"
   ]
  },
  {
   "cell_type": "code",
   "execution_count": 40,
   "metadata": {},
   "outputs": [
    {
     "name": "stdout",
     "output_type": "stream",
     "text": [
      " the negative of this matrix:\n",
      "1  2 \n",
      "3  4 \n",
      "\n",
      "is\n",
      "-1  -2 \n",
      "-3  -4 \n",
      "\n"
     ]
    }
   ],
   "source": [
    "m_neg = -m1\n",
    "print(\" the negative of this matrix:\")\n",
    "print(m1)\n",
    "print(\"is\")\n",
    "print(m_neg)"
   ]
  },
  {
   "cell_type": "code",
   "execution_count": 41,
   "metadata": {},
   "outputs": [
    {
     "name": "stdout",
     "output_type": "stream",
     "text": [
      " the difference of this matrix:\n",
      "1  2 \n",
      "3  4 \n",
      "\n",
      "minus\n",
      "2  5 \n",
      "6  1 \n",
      "\n",
      "is\n",
      "-1  -3 \n",
      "-3  3 \n",
      "\n"
     ]
    }
   ],
   "source": [
    "m_subtraction = m1 - m2\n",
    "print(\" the difference of this matrix:\")\n",
    "print(m1)\n",
    "print( \"and\")\n",
    "print(m2)\n",
    "print(\"is\")\n",
    "print(m_subtraction)"
   ]
  },
  {
   "cell_type": "code",
   "execution_count": 42,
   "metadata": {},
   "outputs": [
    {
     "name": "stdout",
     "output_type": "stream",
     "text": [
      " the product of this matrix:\n",
      "1  2 \n",
      "3  4 \n",
      "\n",
      "and\n",
      "2  5 \n",
      "6  1 \n",
      "\n",
      "is\n",
      "14  7 \n",
      "30  19 \n",
      "\n"
     ]
    }
   ],
   "source": [
    "m_mul = m1 * m2\n",
    "print(\" the product of this matrix:\")\n",
    "print(m1)\n",
    "print( \"and\")\n",
    "print(m2)\n",
    "print(\"is\")\n",
    "print(m_mul)"
   ]
  },
  {
   "cell_type": "code",
   "execution_count": 43,
   "metadata": {},
   "outputs": [
    {
     "name": "stdout",
     "output_type": "stream",
     "text": [
      " the product of this matrix:\n",
      "5\n",
      "and\n",
      "2  5 \n",
      "6  1 \n",
      "\n",
      "is\n",
      "5  10 \n",
      "15  20 \n",
      "\n"
     ]
    }
   ],
   "source": [
    "m_rmul = 5 * m1\n",
    "print(\" the product of this matrix:\")\n",
    "print(\"5\")\n",
    "print( \"and\")\n",
    "print(m2)\n",
    "print(\"is\")\n",
    "print(m_rmul)"
   ]
  },
  {
   "cell_type": "code",
   "execution_count": null,
   "metadata": {
    "collapsed": true
   },
   "outputs": [],
   "source": []
  }
 ],
 "metadata": {
  "kernelspec": {
   "display_name": "Python 3",
   "language": "python",
   "name": "python3"
  },
  "language_info": {
   "codemirror_mode": {
    "name": "ipython",
    "version": 3
   },
   "file_extension": ".py",
   "mimetype": "text/x-python",
   "name": "python",
   "nbconvert_exporter": "python",
   "pygments_lexer": "ipython3",
   "version": "3.6.5"
  }
 },
 "nbformat": 4,
 "nbformat_minor": 2
}
